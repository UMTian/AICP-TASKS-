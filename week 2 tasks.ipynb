{
 "cells": [
  {
   "cell_type": "markdown",
   "id": "25992fba",
   "metadata": {},
   "source": [
    "# Task 1 \n",
    "### Writer pandas series code to get following output without using dictionary:"
   ]
  },
  {
   "cell_type": "code",
   "execution_count": 10,
   "id": "9e33574f",
   "metadata": {},
   "outputs": [
    {
     "data": {
      "text/plain": [
       "a    1\n",
       "x    4\n",
       "c    9\n",
       "2    6\n",
       "e    7\n",
       "dtype: int64"
      ]
     },
     "execution_count": 10,
     "metadata": {},
     "output_type": "execute_result"
    }
   ],
   "source": [
    "import pandas as pd\n",
    "\n",
    "values = [1, 4, 9, 6, 7]\n",
    "index = ['a', 'x', 'c', '2', 'e']\n",
    "\n",
    "series = pd.Series(values, index=index)\n",
    "series"
   ]
  },
  {
   "cell_type": "markdown",
   "id": "82aeb0c2",
   "metadata": {},
   "source": [
    "# Task 2 \n",
    "### Writer pandas series code to get following output using dictionary:"
   ]
  },
  {
   "cell_type": "code",
   "execution_count": 9,
   "id": "b653a45f",
   "metadata": {},
   "outputs": [
    {
     "data": {
      "text/plain": [
       "Bilal    42\n",
       "Aysha    38\n",
       "Hadia    39\n",
       "dtype: int64"
      ]
     },
     "execution_count": 9,
     "metadata": {},
     "output_type": "execute_result"
    }
   ],
   "source": [
    "data = {\"Bilal\": 42, \"Aysha\": 38, \"Hadia\": 39}\n",
    "\n",
    "series = pd.Series(data)\n",
    "series\n"
   ]
  },
  {
   "cell_type": "markdown",
   "id": "99abe313",
   "metadata": {},
   "source": [
    "# Task 3\n",
    "### Write pandas dataframe code to get following output using python dictionary"
   ]
  },
  {
   "cell_type": "code",
   "execution_count": 13,
   "id": "c3a088ec",
   "metadata": {},
   "outputs": [
    {
     "name": "stdout",
     "output_type": "stream",
     "text": [
      "        day  temperature  wind speed  event\n",
      "0  1/1/2017           32           6   Rain\n",
      "1  1/2/2017           35           7  Sunny\n",
      "2  1/3/2017           28           2   Snow\n",
      "3  1/4/2017           24           7   Snow\n",
      "4  1/5/2017           32           4   Rain\n",
      "5  1/6/2017            3           2  Sunny\n"
     ]
    }
   ],
   "source": [
    "Dic = {\"day\": [\"1/1/2017\", \"1/2/2017\", \"1/3/2017\", \"1/4/2017\", \"1/5/2017\", \"1/6/2017\"],\n",
    "       \"temperature\": [32, 35, 28, 24, 32, 3],\n",
    "       \"wind speed\": [6, 7, 2, 7, 4, 2],\n",
    "       \"event\": [\"Rain\", \"Sunny\", \"Snow\", \"Snow\", \"Rain\", \"Sunny\"]}\n",
    "\n",
    "\n",
    "df1 = pd.DataFrame(Dic)\n",
    "df1\n",
    "                                                                                                                                                  "
   ]
  },
  {
   "cell_type": "markdown",
   "id": "16a4305c",
   "metadata": {},
   "source": [
    "# Task 4\n",
    "### In extension to above question, you are required to replace index by ['a','b','c','d','e','f']"
   ]
  },
  {
   "cell_type": "code",
   "execution_count": 14,
   "id": "f5738840",
   "metadata": {},
   "outputs": [
    {
     "data": {
      "text/html": [
       "<div>\n",
       "<style scoped>\n",
       "    .dataframe tbody tr th:only-of-type {\n",
       "        vertical-align: middle;\n",
       "    }\n",
       "\n",
       "    .dataframe tbody tr th {\n",
       "        vertical-align: top;\n",
       "    }\n",
       "\n",
       "    .dataframe thead th {\n",
       "        text-align: right;\n",
       "    }\n",
       "</style>\n",
       "<table border=\"1\" class=\"dataframe\">\n",
       "  <thead>\n",
       "    <tr style=\"text-align: right;\">\n",
       "      <th></th>\n",
       "      <th>day</th>\n",
       "      <th>temperature</th>\n",
       "      <th>wind speed</th>\n",
       "      <th>event</th>\n",
       "    </tr>\n",
       "  </thead>\n",
       "  <tbody>\n",
       "    <tr>\n",
       "      <th>a</th>\n",
       "      <td>1/1/2017</td>\n",
       "      <td>32</td>\n",
       "      <td>6</td>\n",
       "      <td>Rain</td>\n",
       "    </tr>\n",
       "    <tr>\n",
       "      <th>b</th>\n",
       "      <td>1/2/2017</td>\n",
       "      <td>35</td>\n",
       "      <td>7</td>\n",
       "      <td>Sunny</td>\n",
       "    </tr>\n",
       "    <tr>\n",
       "      <th>c</th>\n",
       "      <td>1/3/2017</td>\n",
       "      <td>28</td>\n",
       "      <td>2</td>\n",
       "      <td>Snow</td>\n",
       "    </tr>\n",
       "    <tr>\n",
       "      <th>d</th>\n",
       "      <td>1/4/2017</td>\n",
       "      <td>24</td>\n",
       "      <td>7</td>\n",
       "      <td>Snow</td>\n",
       "    </tr>\n",
       "    <tr>\n",
       "      <th>e</th>\n",
       "      <td>1/5/2017</td>\n",
       "      <td>32</td>\n",
       "      <td>4</td>\n",
       "      <td>Rain</td>\n",
       "    </tr>\n",
       "    <tr>\n",
       "      <th>f</th>\n",
       "      <td>1/6/2017</td>\n",
       "      <td>3</td>\n",
       "      <td>2</td>\n",
       "      <td>Sunny</td>\n",
       "    </tr>\n",
       "  </tbody>\n",
       "</table>\n",
       "</div>"
      ],
      "text/plain": [
       "        day  temperature  wind speed  event\n",
       "a  1/1/2017           32           6   Rain\n",
       "b  1/2/2017           35           7  Sunny\n",
       "c  1/3/2017           28           2   Snow\n",
       "d  1/4/2017           24           7   Snow\n",
       "e  1/5/2017           32           4   Rain\n",
       "f  1/6/2017            3           2  Sunny"
      ]
     },
     "execution_count": 14,
     "metadata": {},
     "output_type": "execute_result"
    }
   ],
   "source": [
    "index_labels = ['a', 'b', 'c', 'd', 'e', 'f']\n",
    "\n",
    "df1 = pd.DataFrame(Dic, index=index_labels)\n",
    "df1\n"
   ]
  },
  {
   "cell_type": "markdown",
   "id": "36c2f50f",
   "metadata": {},
   "source": [
    "# Task 5\n",
    "### In extension to above Q.3, calculate mean, miximum and minimum for label “temperature”\n"
   ]
  },
  {
   "cell_type": "code",
   "execution_count": 15,
   "id": "ac0e7330",
   "metadata": {},
   "outputs": [
    {
     "name": "stdout",
     "output_type": "stream",
     "text": [
      "Mean Temperature: 25.666666666666668\n",
      "Maximum Temperature: 35\n",
      "Minimum Temperature: 3\n"
     ]
    }
   ],
   "source": [
    "temperature_mean = df1[\"temperature\"].mean()\n",
    "temperature_max = df1[\"temperature\"].max()\n",
    "temperature_min = df1[\"temperature\"].min()\n",
    "\n",
    "print(\"Mean Temperature:\", temperature_mean)\n",
    "print(\"Maximum Temperature:\", temperature_max)\n",
    "print(\"Minimum Temperature:\", temperature_min)\n"
   ]
  },
  {
   "cell_type": "markdown",
   "id": "88461548",
   "metadata": {},
   "source": [
    "# Task 6\n",
    "### Import CSV ‘people.csv’ in the given folder. Keep in mind the following instructions:\n",
    "* you’re required to import only specific columns [\"First Name\", \"Sex\", \"Email\", “Phone”, “Job Title”]\n",
    "* Set the following columns [\"Sex\", \"Job Title\"] as index columns\n",
    "* Skip following rows [1,5]\n",
    "* Export the CSV as “NewPeople.csv”"
   ]
  },
  {
   "cell_type": "code",
   "execution_count": 16,
   "id": "b1a691ff",
   "metadata": {},
   "outputs": [
    {
     "name": "stdout",
     "output_type": "stream",
     "text": [
      "                                First Name                       Email  \\\n",
      "Sex    Job Title                                                         \n",
      "Female Phytotherapist              Phillip       bethany14@example.com   \n",
      "Male   Homeopath                  Kristine       bthompson@example.com   \n",
      "       Market researcher           Yesenia   kaitlinkaiser@example.com   \n",
      "       Waste management officer       Erin         tconner@example.org   \n",
      "Female Intelligence analyst      Katherine     conniecowan@example.com   \n",
      "...                                    ...                         ...   \n",
      "       Software engineer            Dennis         bmartin@example.org   \n",
      "       Barrister                     Steve       latasha46@example.net   \n",
      "Male   Police officer               Wesley        regina11@example.org   \n",
      "Female Broadcast journalist         Summer  alexiscantrell@example.org   \n",
      "Male   IT sales professional        Mariah       pcopeland@example.org   \n",
      "\n",
      "                                                 Phone  \n",
      "Sex    Job Title                                        \n",
      "Female Phytotherapist                214.112.6044x4913  \n",
      "Male   Homeopath                          277.609.7938  \n",
      "       Market researcher                  584.094.6111  \n",
      "       Waste management officer  001-171-649-9856x5553  \n",
      "Female Intelligence analyst      +1-773-151-6685x49162  \n",
      "...                                                ...  \n",
      "       Software engineer          001-095-524-2112x257  \n",
      "       Barrister                      001-865-478-5157  \n",
      "Male   Police officer               995-542-3004x76800  \n",
      "Female Broadcast journalist       001-273-685-6932x092  \n",
      "Male   IT sales professional       (341)594-6554x44657  \n",
      "\n",
      "[98 rows x 3 columns]\n"
     ]
    }
   ],
   "source": [
    "# Import file \n",
    "file_path = \"C:\\\\Users\\\\LENOVO\\\\Downloads\\\\EDA Internship 2.0 Week 2\\\\people.csv\"\n",
    "df = pd.read_csv(file_path, skiprows=[1, 5], usecols=[\"Sex\", \"Job Title\", \"First Name\", \"Email\", \"Phone\"])\n",
    "\n",
    "# Set specified columns as index\n",
    "df.set_index([\"Sex\", \"Job Title\"], inplace=True)\n",
    "\n",
    "# Export the DataFrame to a new CSV file\n",
    "df.to_csv(\"C:\\\\Users\\\\LENOVO\\\\Downloads\\\\EDA Internship 2.0 Week 2\\\\Newpeople.csv.xlsx\")\n",
    "\n",
    "# Display the DataFrame (optional)\n",
    "print(df)"
   ]
  },
  {
   "cell_type": "markdown",
   "id": "23afb297",
   "metadata": {},
   "source": [
    "# Task 7\n",
    "### Import excel sheet ‘SampleWork.xlsx’ in the given folder. Keep in mind the following instructions:\n",
    "* Import sheet 1\n",
    "* Import only first and last column from sheet 1\n",
    "* Skip row 2 while importing the sheet\n",
    "* Set row 2 as header\n",
    "* export as new sheet."
   ]
  },
  {
   "cell_type": "code",
   "execution_count": 22,
   "id": "9ec2adf5",
   "metadata": {},
   "outputs": [
    {
     "data": {
      "text/html": [
       "<div>\n",
       "<style scoped>\n",
       "    .dataframe tbody tr th:only-of-type {\n",
       "        vertical-align: middle;\n",
       "    }\n",
       "\n",
       "    .dataframe tbody tr th {\n",
       "        vertical-align: top;\n",
       "    }\n",
       "\n",
       "    .dataframe thead th {\n",
       "        text-align: right;\n",
       "    }\n",
       "</style>\n",
       "<table border=\"1\" class=\"dataframe\">\n",
       "  <thead>\n",
       "    <tr style=\"text-align: right;\">\n",
       "      <th></th>\n",
       "      <th>Bilal</th>\n",
       "      <th>90</th>\n",
       "    </tr>\n",
       "  </thead>\n",
       "  <tbody>\n",
       "    <tr>\n",
       "      <th>0</th>\n",
       "      <td>Sufyan</td>\n",
       "      <td>85</td>\n",
       "    </tr>\n",
       "    <tr>\n",
       "      <th>1</th>\n",
       "      <td>Saiqa</td>\n",
       "      <td>80</td>\n",
       "    </tr>\n",
       "    <tr>\n",
       "      <th>2</th>\n",
       "      <td>Aimen</td>\n",
       "      <td>75</td>\n",
       "    </tr>\n",
       "  </tbody>\n",
       "</table>\n",
       "</div>"
      ],
      "text/plain": [
       "    Bilal  90\n",
       "0  Sufyan  85\n",
       "1   Saiqa  80\n",
       "2   Aimen  75"
      ]
     },
     "execution_count": 22,
     "metadata": {},
     "output_type": "execute_result"
    }
   ],
   "source": [
    "# Import Excel file\n",
    "file_path =\"C:\\\\Users\\\\LENOVO\\\\Downloads\\\\EDA Internship 2.0 Week 2\\\\SampleWork.xlsx\"\n",
    "df = pd.read_excel(file_path, sheet_name='Sheet1', usecols=[0, 3], skiprows=[1], header=1)\n",
    "\n",
    "# Export the DataFrame to a new Excel file with a new sheet\n",
    "export_path = \"C:\\\\Users\\\\LENOVO\\\\Downloads\\\\EDA Internship 2.0 Week 2\\\\NEW.xlsx\"\n",
    "df.to_excel(export_path, sheet_name='NewSheet', index=False)\n",
    "df\n"
   ]
  },
  {
   "cell_type": "markdown",
   "id": "cdf5753e",
   "metadata": {},
   "source": [
    "# Task 8\n",
    "### : Create the following dataframe as AICP_DF then implement different operations as described below:\n",
    "* select 'Name', 'Qualification' coloumns and save to df1\n",
    "* add a new column to AICP_DF “Height” with the following values: [5.1, 6.2, 5.1, 5.2,5.1]\n",
    "* set column “Name” as the index column.\n",
    "* retrieve row with index “Hifza”\n",
    "* retrieve row with index 3\n",
    "* drop row with index “Bilal"
   ]
  },
  {
   "cell_type": "code",
   "execution_count": 23,
   "id": "d8e8e30a",
   "metadata": {},
   "outputs": [
    {
     "name": "stdout",
     "output_type": "stream",
     "text": [
      "AICP_DF:\n",
      "       Qualification  Age  Height\n",
      "Name                             \n",
      "Ayesha            MS   25     5.1\n",
      "Hifza            PhD   28     6.2\n",
      "Ali               MS   30     5.2\n",
      "Sara             PhD   26     5.1\n",
      "\n",
      "df1:\n",
      "     Name Qualification\n",
      "0  Ayesha            MS\n",
      "1   Hifza           PhD\n",
      "2   Bilal            BS\n",
      "3     Ali            MS\n",
      "4    Sara           PhD\n",
      "\n",
      "Row with index 'Hifza':\n",
      "Qualification    PhD\n",
      "Age               28\n",
      "Height           6.2\n",
      "Name: Hifza, dtype: object\n",
      "\n",
      "Row with index 3:\n",
      "Qualification     MS\n",
      "Age               30\n",
      "Height           5.2\n",
      "Name: Ali, dtype: object\n"
     ]
    }
   ],
   "source": [
    "# Create AICP_DF DataFrame\n",
    "data = {\n",
    "    'Name': ['Ayesha', 'Hifza', 'Bilal', 'Ali', 'Sara'],\n",
    "    'Qualification': ['MS', 'PhD', 'BS', 'MS', 'PhD'],\n",
    "    'Age': [25, 28, 22, 30, 26]\n",
    "}\n",
    "\n",
    "AICP_DF = pd.DataFrame(data)\n",
    "\n",
    "# 1. Select 'Name', 'Qualification' columns and save to df1\n",
    "df1 = AICP_DF[['Name', 'Qualification']]\n",
    "\n",
    "# 2. Add a new column to AICP_DF “Height” with the following values: [5.1, 6.2, 5.1, 5.2, 5.1]\n",
    "AICP_DF['Height'] = [5.1, 6.2, 5.1, 5.2, 5.1]\n",
    "\n",
    "# 3. Set column “Name” as the index column.\n",
    "AICP_DF.set_index('Name', inplace=True)\n",
    "\n",
    "# 4. Retrieve row with index “Hifza”\n",
    "row_hifza = AICP_DF.loc['Hifza']\n",
    "\n",
    "# 5. Retrieve row with index 3\n",
    "row_index_3 = AICP_DF.iloc[3]\n",
    "\n",
    "# 6. Drop row with index “Bilal\"\n",
    "AICP_DF.drop('Bilal', inplace=True)\n",
    "\n",
    "# Display the DataFrames and results (optional)\n",
    "print(\"AICP_DF:\")\n",
    "print(AICP_DF)\n",
    "\n",
    "print(\"\\ndf1:\")\n",
    "print(df1)\n",
    "\n",
    "print(\"\\nRow with index 'Hifza':\")\n",
    "print(row_hifza)\n",
    "\n",
    "print(\"\\nRow with index 3:\")\n",
    "print(row_index_3)\n"
   ]
  },
  {
   "cell_type": "code",
   "execution_count": null,
   "id": "489042d2",
   "metadata": {},
   "outputs": [],
   "source": []
  }
 ],
 "metadata": {
  "kernelspec": {
   "display_name": "Python 3 (ipykernel)",
   "language": "python",
   "name": "python3"
  },
  "language_info": {
   "codemirror_mode": {
    "name": "ipython",
    "version": 3
   },
   "file_extension": ".py",
   "mimetype": "text/x-python",
   "name": "python",
   "nbconvert_exporter": "python",
   "pygments_lexer": "ipython3",
   "version": "3.11.5"
  }
 },
 "nbformat": 4,
 "nbformat_minor": 5
}
