{
 "cells": [
  {
   "cell_type": "markdown",
   "id": "2c4ff0fb",
   "metadata": {},
   "source": [
    "# Task 1\n",
    "### Write a NumPy program to create an array of all even integers from 30 to 70.\n"
   ]
  },
  {
   "cell_type": "code",
   "execution_count": 14,
   "id": "fcb89133",
   "metadata": {},
   "outputs": [
    {
     "name": "stdout",
     "output_type": "stream",
     "text": [
      "[30 32 34 36 38 40 42 44 46 48 50 52 54 56 58 60 62 64 66 68 70]\n"
     ]
    }
   ],
   "source": [
    "import numpy as np\n",
    "\n",
    "even_array = np.arange(30, 71, 2)\n",
    "\n",
    "print(even_array)\n"
   ]
  },
  {
   "cell_type": "markdown",
   "id": "440272db",
   "metadata": {},
   "source": [
    "# Task 2\n",
    "### Write a NumPy program to generate an array of 15 random numbers from a standard normal distribution"
   ]
  },
  {
   "cell_type": "code",
   "execution_count": 2,
   "id": "b6eb396b",
   "metadata": {},
   "outputs": [
    {
     "name": "stdout",
     "output_type": "stream",
     "text": [
      "[ 0.31909074  0.37663582  0.23793411 -0.76882536 -0.798168   -0.97561957\n",
      " -0.68538963 -0.84295161 -2.21358732 -1.20688991  0.69503668  0.76193894\n",
      " -0.50429912 -0.30181239 -2.33429536]\n"
     ]
    }
   ],
   "source": [
    "random_numbers = np.random.normal(size=15)\n",
    "\n",
    "print(random_numbers)"
   ]
  },
  {
   "cell_type": "markdown",
   "id": "ffcaa895",
   "metadata": {},
   "source": [
    "# Task 3\n",
    "### How to compute the cross-product of two matrices in NumPy?"
   ]
  },
  {
   "cell_type": "code",
   "execution_count": 6,
   "id": "4478c02b",
   "metadata": {},
   "outputs": [
    {
     "name": "stdout",
     "output_type": "stream",
     "text": [
      "Cross-product matrix:\n",
      "[-5 -6]\n"
     ]
    }
   ],
   "source": [
    "\n",
    "arr1 = np.array([[1, 2],\n",
    "                [3, 4]])\n",
    "\n",
    "arr2 = np.array([[5, 5],\n",
    "                [6, 6]])\n",
    "\n",
    "cross_product = np.cross(arr1, arr2)\n",
    "\n",
    "print(\"Cross-product matrix:\")\n",
    "\n",
    "print(cross_product)\n"
   ]
  },
  {
   "cell_type": "markdown",
   "id": "26198203",
   "metadata": {},
   "source": [
    "# Task 4\n",
    "### How to compute the determinant of an array using NumPy?"
   ]
  },
  {
   "cell_type": "code",
   "execution_count": 8,
   "id": "bf74f6d6",
   "metadata": {},
   "outputs": [
    {
     "name": "stdout",
     "output_type": "stream",
     "text": [
      "Determinant: -2.9999999999999996\n"
     ]
    }
   ],
   "source": [
    "matrix = np.array([[1, 2],\n",
    "                   [4, 5]])\n",
    "\n",
    "determinant_value = np.linalg.det(matrix)\n",
    "\n",
    "print(\"Determinant:\", determinant_value)\n"
   ]
  },
  {
   "cell_type": "markdown",
   "id": "6524766c",
   "metadata": {},
   "source": [
    "# Task 5\n",
    "### How to create a 3x3x3 array with random values using NumPy?\n"
   ]
  },
  {
   "cell_type": "code",
   "execution_count": 10,
   "id": "15d8e243",
   "metadata": {},
   "outputs": [
    {
     "name": "stdout",
     "output_type": "stream",
     "text": [
      "[[[6.55338362 6.43093948 9.33463185]\n",
      "  [3.12343624 5.57874821 5.9731622 ]\n",
      "  [4.05835232 3.71765095 1.64332849]]\n",
      "\n",
      " [[5.70039502 1.00335245 8.4426836 ]\n",
      "  [4.79473163 2.82382575 2.83541369]\n",
      "  [8.48955217 2.21000006 9.13249627]]\n",
      "\n",
      " [[9.91503566 8.26228032 5.26756015]\n",
      "  [3.07633701 3.95833754 4.22135254]\n",
      "  [3.06676697 4.24015706 2.68220355]]]\n"
     ]
    }
   ],
   "source": [
    "random_array = np.random.rand(3, 3, 3) * 9 + 1\n",
    "\n",
    "print(random_array)\n"
   ]
  },
  {
   "cell_type": "markdown",
   "id": "51bcb704",
   "metadata": {},
   "source": [
    "# Task 6\n",
    "### How to create a 5x5 array with random values and find the minimum and maximum values using NumPy?\n"
   ]
  },
  {
   "cell_type": "code",
   "execution_count": 12,
   "id": "1d9968b3",
   "metadata": {},
   "outputs": [
    {
     "name": "stdout",
     "output_type": "stream",
     "text": [
      "Random Array:\n",
      "[[9.76589437 5.00411444 4.8486819  5.29154986 9.72441511]\n",
      " [3.26185311 4.23691114 9.59830033 8.89755823 3.06037038]\n",
      " [1.51182652 5.48962893 9.69034067 1.33018395 2.6596911 ]\n",
      " [1.14648577 4.2613942  6.77548618 6.55255155 1.14280413]\n",
      " [8.51220533 5.99388551 3.05996713 1.99887344 2.24331251]]\n",
      "Minimum Value: 1.1428041262476998\n",
      "Maximum Value: 9.765894373933673\n"
     ]
    }
   ],
   "source": [
    "random_array = np.random.rand(5, 5) * 9 + 1\n",
    "\n",
    "print(\"Random Array:\")\n",
    "print(random_array)\n",
    "\n",
    "min_value = np.min(random_array)\n",
    "max_value = np.max(random_array)\n",
    "\n",
    "print(\"Minimum Value:\", min_value)\n",
    "print(\"Maximum Value:\", max_value)\n"
   ]
  },
  {
   "cell_type": "markdown",
   "id": "91016246",
   "metadata": {},
   "source": [
    "# Task 7\n",
    "### How to compute the mean, standard deviation, and variance of a given array along the second axis in NumPy?"
   ]
  },
  {
   "cell_type": "code",
   "execution_count": 13,
   "id": "c9a31367",
   "metadata": {},
   "outputs": [
    {
     "name": "stdout",
     "output_type": "stream",
     "text": [
      "Mean along second axis: [1.5 4.5]\n",
      "Standard Deviation along second axis: [0.5 0.5]\n",
      "Variance along second axis: [0.25 0.25]\n"
     ]
    }
   ],
   "source": [
    "sample_array = np.array([[1, 2],\n",
    "                         [4, 5]])\n",
    "\n",
    "mean_values = np.mean(sample_array, axis=1)\n",
    "\n",
    "std_deviation_values = np.std(sample_array, axis=1)\n",
    "\n",
    "variance_values = np.var(sample_array, axis=1)\n",
    "\n",
    "print(\"Mean along second axis:\", mean_values)\n",
    "print(\"Standard Deviation along second axis:\", std_deviation_values)\n",
    "print(\"Variance along second axis:\", variance_values)\n"
   ]
  },
  {
   "cell_type": "code",
   "execution_count": null,
   "id": "818ef26e",
   "metadata": {},
   "outputs": [],
   "source": []
  }
 ],
 "metadata": {
  "kernelspec": {
   "display_name": "Python 3 (ipykernel)",
   "language": "python",
   "name": "python3"
  },
  "language_info": {
   "codemirror_mode": {
    "name": "ipython",
    "version": 3
   },
   "file_extension": ".py",
   "mimetype": "text/x-python",
   "name": "python",
   "nbconvert_exporter": "python",
   "pygments_lexer": "ipython3",
   "version": "3.11.5"
  }
 },
 "nbformat": 4,
 "nbformat_minor": 5
}
